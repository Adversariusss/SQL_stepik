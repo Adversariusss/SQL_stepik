{
 "cells": [
  {
   "cell_type": "markdown",
   "metadata": {},
   "source": [
    "## Все запросы выполняются в MySQL"
   ]
  },
  {
   "cell_type": "markdown",
   "metadata": {},
   "source": [
    " "
   ]
  },
  {
   "cell_type": "markdown",
   "metadata": {},
   "source": [
    "### Module 1.1"
   ]
  },
  {
   "cell_type": "markdown",
   "metadata": {},
   "source": [
    "#### Сформулируйте SQL запрос для создания таблицы book, занесите  его в окно кода (расположено ниже). Структура таблицы book:"
   ]
  },
  {
   "cell_type": "code",
   "execution_count": null,
   "metadata": {},
   "outputs": [],
   "source": [
    "Create Table book (\n",
    "    book_id INT PRIMARY KEY AUTO_INCREMENT,\n",
    "    title Varchar(50),\n",
    "    author Varchar(30),\n",
    "    price Decimal(8, 2),\n",
    "    amount Int\n",
    ")"
   ]
  },
  {
   "cell_type": "markdown",
   "metadata": {},
   "source": [
    "#### Занесите новую строку в таблицу book (текстовые значения (тип VARCHAR) заключать либо в двойные, либо в одинарные кавычки):"
   ]
  },
  {
   "cell_type": "code",
   "execution_count": null,
   "metadata": {},
   "outputs": [],
   "source": [
    "INSERT INTO book (title, author, price, amount) \n",
    "VALUES ('Мастер и Маргарита', 'Булгаков М.А.', 670.99, 3);"
   ]
  },
  {
   "cell_type": "markdown",
   "metadata": {},
   "source": [
    "#### Занесите три последние записи в таблицу book"
   ]
  },
  {
   "cell_type": "code",
   "execution_count": null,
   "metadata": {},
   "outputs": [],
   "source": [
    "INSERT INTO book (title, author, price, amount) \n",
    "VALUES ('Белая гвардия', 'Булгаков М.А.', 540.50, 5);\n",
    "INSERT INTO book (title, author, price, amount) \n",
    "VALUES ('Идиот', 'Достоевский Ф.М.', 460.00, 10);\n",
    "INSERT INTO book (title, author, price, amount) \n",
    "VALUES ('Братья Карамазовы', 'Достоевский Ф.М.', 799.01, 2);\n",
    "SELECT * FROM book;"
   ]
  },
  {
   "cell_type": "markdown",
   "metadata": {},
   "source": [
    "### Module 1.2"
   ]
  },
  {
   "cell_type": "markdown",
   "metadata": {},
   "source": [
    "#### Выбрать авторов, название книг и их цену из таблицы book."
   ]
  },
  {
   "cell_type": "code",
   "execution_count": null,
   "metadata": {},
   "outputs": [],
   "source": [
    "SELECT author, title, price \n",
    "FROM book;"
   ]
  },
  {
   "cell_type": "markdown",
   "metadata": {},
   "source": [
    "#### Выбрать названия книг и авторов из таблицы book, для поля title задать новое имя Название, для поля author –  Автор."
   ]
  },
  {
   "cell_type": "code",
   "execution_count": null,
   "metadata": {},
   "outputs": [],
   "source": [
    "SELECT title AS Название, author as Автор\n",
    "FROM book;"
   ]
  },
  {
   "cell_type": "markdown",
   "metadata": {},
   "source": [
    "#### Для упаковки каждой книги требуется 1 лист бумаги, цена которого 1 рубль 65 копеек. Посчитать стоимость упаковки для каждой книги (сколько денег потребуется, чтобы упаковать все экземпляры книги). В запросе вывести название книги, ее количество и стоимость упаковки, последний столбец назвать pack."
   ]
  },
  {
   "cell_type": "code",
   "execution_count": null,
   "metadata": {},
   "outputs": [],
   "source": [
    "SELECT title, amount, \n",
    "    1.65 * amount AS pack\n",
    "FROM book;"
   ]
  },
  {
   "cell_type": "markdown",
   "metadata": {},
   "source": [
    "#### В конце года цену всех книг на складе пересчитывают – снижают ее на 30%. Написать SQL запрос, который из таблицы book выбирает названия, авторов, количества и вычисляет новые цены книг. Столбец с новой ценой назвать new_price, цену округлить до 2-х знаков после запятой."
   ]
  },
  {
   "cell_type": "code",
   "execution_count": null,
   "metadata": {},
   "outputs": [],
   "source": [
    "SELECT title, author, amount,\n",
    "    ROUND(price-(price*0.3), 2) AS new_price \n",
    "FROM book"
   ]
  },
  {
   "cell_type": "markdown",
   "metadata": {},
   "source": [
    "#### При анализе продаж книг выяснилось, что наибольшей популярностью пользуются книги Михаила Булгакова, на втором месте книги Сергея Есенина. Исходя из этого решили поднять цену книг Булгакова на 10%, а цену книг Есенина - на 5%. Написать запрос, куда включить автора, название книги и новую цену, последний столбец назвать new_price. Значение округлить до двух знаков после запятой."
   ]
  },
  {
   "cell_type": "code",
   "execution_count": null,
   "metadata": {},
   "outputs": [],
   "source": [
    "SELECT author, title,\n",
    "    ROUND(IF(author = \"Булгаков М.А.\", price*1.1, IF(author = \"Есенин С.А.\", price*1.05, price)), 2) AS new_price\n",
    "FROM book;"
   ]
  },
  {
   "cell_type": "markdown",
   "metadata": {},
   "source": [
    "#### Вывести название, автора  и стоимость (цена умножить на количество) тех книг, стоимость которых больше 4000 рублей"
   ]
  },
  {
   "cell_type": "code",
   "execution_count": null,
   "metadata": {},
   "outputs": [],
   "source": [
    "SELECT title, author, price * amount AS total\n",
    "FROM book\n",
    "WHERE price * amount > 4000;"
   ]
  },
  {
   "cell_type": "markdown",
   "metadata": {},
   "source": [
    "#### Вывести автора, название  и цены тех книг, количество которых меньше 10."
   ]
  },
  {
   "cell_type": "code",
   "execution_count": null,
   "metadata": {},
   "outputs": [],
   "source": [
    "Select author, title, price From book where amount < 10;"
   ]
  },
  {
   "cell_type": "markdown",
   "metadata": {},
   "source": [
    "#### Вывести название, цену  тех книг, которые написал Булгаков или Есенин, ценой больше 600 рублей"
   ]
  },
  {
   "cell_type": "code",
   "execution_count": null,
   "metadata": {},
   "outputs": [],
   "source": [
    "SELECT title, author, price \n",
    "FROM book\n",
    "WHERE (author = 'Булгаков М.А.' OR author = 'Есенин С.А.') AND price > 600;"
   ]
  },
  {
   "cell_type": "markdown",
   "metadata": {},
   "source": [
    "#### Вывести название, автора,  цену  и количество всех книг, цена которых меньше 500 или больше 600, а стоимость всех экземпляров этих книг больше или равна 5000."
   ]
  },
  {
   "cell_type": "code",
   "execution_count": null,
   "metadata": {},
   "outputs": [],
   "source": [
    "Select title, author, price, amount\n",
    "From book\n",
    "where (price < 500 or price > 600) and price * amount >= 5000;"
   ]
  },
  {
   "cell_type": "markdown",
   "metadata": {},
   "source": [
    "#### Выбрать названия и количества тех книг, количество которых от 5 до 14 включительно.\n",
    "#### Запросы выводят одно и тоже"
   ]
  },
  {
   "cell_type": "code",
   "execution_count": null,
   "metadata": {},
   "outputs": [],
   "source": [
    "SELECT title, amount \n",
    "FROM book\n",
    "WHERE amount BETWEEN 5 AND 14;"
   ]
  },
  {
   "cell_type": "code",
   "execution_count": null,
   "metadata": {},
   "outputs": [],
   "source": [
    "SELECT title, amount \n",
    "FROM book\n",
    "WHERE amount >= 5 AND amount <=14;"
   ]
  },
  {
   "cell_type": "markdown",
   "metadata": {},
   "source": [
    "#### Вывести название и авторов тех книг, цены которых принадлежат интервалу от 540.50 до 800 (включая границы),  а количество или 2, или 3, или 5, или 7 ."
   ]
  },
  {
   "cell_type": "code",
   "execution_count": null,
   "metadata": {},
   "outputs": [],
   "source": [
    "Select title, author\n",
    "From book\n",
    "Where (price between 540.50 and 800) and amount in (2, 3, 5, 7); "
   ]
  },
  {
   "cell_type": "markdown",
   "metadata": {},
   "source": [
    "#### Вывести названия книг, начинающихся с буквы «Б»."
   ]
  },
  {
   "cell_type": "code",
   "execution_count": null,
   "metadata": {},
   "outputs": [],
   "source": [
    "SELECT title \n",
    "FROM book\n",
    "WHERE title LIKE 'Б%';"
   ]
  },
  {
   "cell_type": "markdown",
   "metadata": {},
   "source": [
    "#### Вывести название, автора и цены книг. Информацию  отсортировать по названиям книг в алфавитном порядке."
   ]
  },
  {
   "cell_type": "code",
   "execution_count": null,
   "metadata": {},
   "outputs": [],
   "source": [
    "SELECT title, author, price\n",
    "FROM book\n",
    "ORDER BY title;"
   ]
  },
  {
   "cell_type": "markdown",
   "metadata": {},
   "source": [
    "#### Вывести автора, название и количество книг, в отсортированном в алфавитном порядке по автору и по убыванию количества, для тех книг, цены которых меньше 750 рублей."
   ]
  },
  {
   "cell_type": "code",
   "execution_count": null,
   "metadata": {},
   "outputs": [],
   "source": [
    "SELECT author, title, amount AS Количество\n",
    "FROM book\n",
    "WHERE price < 750\n",
    "ORDER BY author, amount DESC;"
   ]
  },
  {
   "cell_type": "markdown",
   "metadata": {},
   "source": [
    "#### Вывести  автора и название  книг, количество которых принадлежит интервалу от 2 до 14 (включая границы). Информацию  отсортировать по авторам (в обратном алфавитном порядке) и названиям (по алфавиту)."
   ]
  },
  {
   "cell_type": "code",
   "execution_count": null,
   "metadata": {},
   "outputs": [],
   "source": [
    "Select author, title\n",
    "From book\n",
    "Where amount Between 2 and 14\n",
    "Order By author Desc, title;"
   ]
  },
  {
   "cell_type": "markdown",
   "metadata": {},
   "source": [
    "### Module 1.3                                                        "
   ]
  },
  {
   "cell_type": "markdown",
   "metadata": {},
   "source": [
    "#### Чтобы отобрать уникальные элементы некоторого столбца используется ключевое слово DISTINCT, которое размещается сразу после SELECT."
   ]
  },
  {
   "cell_type": "code",
   "execution_count": null,
   "metadata": {},
   "outputs": [],
   "source": [
    "SELECT DISTINCT author\n",
    "FROM book;"
   ]
  },
  {
   "cell_type": "markdown",
   "metadata": {},
   "source": [
    "#### Можно сделать тоже самое с помощью GROUP BY"
   ]
  },
  {
   "cell_type": "code",
   "execution_count": null,
   "metadata": {},
   "outputs": [],
   "source": [
    "SELECT  author\n",
    "FROM book\n",
    "GROUP BY author;"
   ]
  },
  {
   "cell_type": "markdown",
   "metadata": {},
   "source": [
    "#### Отобрать различные элементы столбца amount таблицы book."
   ]
  },
  {
   "cell_type": "code",
   "execution_count": null,
   "metadata": {},
   "outputs": [],
   "source": [
    "Select amount\n",
    "From book\n",
    "Group By amount;"
   ]
  },
  {
   "cell_type": "markdown",
   "metadata": {},
   "source": [
    "#### Посчитать, сколько экземпляров книг каждого автора хранится на складе."
   ]
  },
  {
   "cell_type": "code",
   "execution_count": null,
   "metadata": {},
   "outputs": [],
   "source": [
    "SELECT author, SUM(amount)\n",
    "FROM book\n",
    "GROUP BY author;"
   ]
  },
  {
   "cell_type": "markdown",
   "metadata": {},
   "source": [
    "#### Посчитать, количество различных книг и количество экземпляров книг каждого автора , хранящихся на складе. Вычисляемые столбцы назвать Различных_книг и Количество_экземпляров соответственно, столбец с фамилиями авторов назвать Автор."
   ]
  },
  {
   "cell_type": "code",
   "execution_count": null,
   "metadata": {},
   "outputs": [],
   "source": [
    "SELECT author as 'Автор', Count(author) as 'Различных_книг', Sum(amount) as 'Количество_экземпляров'\n",
    "FROM book\n",
    "GROUP BY author;"
   ]
  },
  {
   "cell_type": "markdown",
   "metadata": {},
   "source": [
    "#### Вывести минимальную, максимальную и среднюю цену книг каждого автора . Вычисляемые столбцы назвать Минимальная_цена, Максимальная_цена и Средняя_цена соответственно."
   ]
  },
  {
   "cell_type": "code",
   "execution_count": null,
   "metadata": {},
   "outputs": [],
   "source": [
    "SELECT author, Min(price) as 'Минимальная_цена', Max(price) as 'Максимальная_цена', Avg(price) as 'Средняя_цена'\n",
    "FROM book\n",
    "GROUP BY author;"
   ]
  },
  {
   "cell_type": "markdown",
   "metadata": {},
   "source": [
    "#### Вывести суммарную стоимость книг каждого автора."
   ]
  },
  {
   "cell_type": "code",
   "execution_count": null,
   "metadata": {},
   "outputs": [],
   "source": [
    "SELECT author, SUM(price * amount) AS Стоимость\n",
    "FROM book\n",
    "GROUP BY author;"
   ]
  },
  {
   "cell_type": "markdown",
   "metadata": {},
   "source": [
    "#### Вывести суммарную стоимость книг каждого автора."
   ]
  },
  {
   "cell_type": "code",
   "execution_count": null,
   "metadata": {},
   "outputs": [],
   "source": [
    "SELECT author, SUM(price * amount) AS Стоимость\n",
    "FROM book\n",
    "GROUP BY author;"
   ]
  },
  {
   "cell_type": "markdown",
   "metadata": {},
   "source": [
    "#### Посчитать общее количество экземпляров книг на складе и их стоимость."
   ]
  },
  {
   "cell_type": "code",
   "execution_count": null,
   "metadata": {},
   "outputs": [],
   "source": [
    "SELECT SUM(amount) AS Количество, \n",
    "SUM(price * amount) AS Стоимость\n",
    "FROM book;"
   ]
  },
  {
   "cell_type": "markdown",
   "metadata": {},
   "source": [
    "#### Вывести  цену самой дешевой книги, цену самой дорогой и среднюю цену книг на складе. Названия столбцов Минимальная_цена, Максимальная_цена, Средняя_цена соответственно. Среднюю цену округлить до двух знаков после запятой."
   ]
  },
  {
   "cell_type": "code",
   "execution_count": null,
   "metadata": {},
   "outputs": [],
   "source": [
    "Select Min(price) as 'Минимальная_цена', Max(price) as 'Максимальная_цена', Round(Avg(price), 2) as 'Средняя_цена'\n",
    "From book;"
   ]
  },
  {
   "cell_type": "markdown",
   "metadata": {},
   "source": [
    "#### Найти минимальную и максимальную цену книг всех авторов, общая стоимость книг которых больше 5000."
   ]
  },
  {
   "cell_type": "code",
   "execution_count": null,
   "metadata": {},
   "outputs": [],
   "source": [
    "SELECT author,\n",
    "MIN(price) AS Минимальная_цена, \n",
    "MAX(price) AS Максимальная_цена\n",
    "FROM book\n",
    "GROUP BY author\n",
    "HAVING SUM(price * amount) > 5000; "
   ]
  },
  {
   "cell_type": "markdown",
   "metadata": {},
   "source": [
    "#### Вычислить среднюю цену и суммарную стоимость тех книг, количество экземпляров которых принадлежит интервалу от 5 до 14, включительно. Столбцы переименовать как показано в образце, значения округлить до 2-х знаков после запятой."
   ]
  },
  {
   "cell_type": "code",
   "execution_count": null,
   "metadata": {},
   "outputs": [],
   "source": [
    "Select \n",
    "Round(Avg(price), 2) As 'Средняя_цена',\n",
    "Round(Sum(price * amount), 2) As 'Стоимость'\n",
    "From book\n",
    "WHERE amount BETWEEN 5 AND 14;"
   ]
  },
  {
   "cell_type": "markdown",
   "metadata": {},
   "source": [
    "### порядок выполнения  SQL запроса на выборку на сервере:"
   ]
  },
  {
   "cell_type": "markdown",
   "metadata": {},
   "source": [
    "#### 1. FROM\n",
    "#### 2. WHERE\n",
    "#### 3. GROUP BY\n",
    "#### 4. HAVING\n",
    "#### 5. SELECT\n",
    "#### 6. ORDER BY"
   ]
  },
  {
   "cell_type": "markdown",
   "metadata": {},
   "source": [
    "#### Вывести максимальную и минимальную цену книг всех авторов, кроме Есенина, количество экземпляров книг которых больше 10."
   ]
  },
  {
   "cell_type": "code",
   "execution_count": null,
   "metadata": {},
   "outputs": [],
   "source": [
    "SELECT author,\n",
    "MIN(price) AS Минимальная_цена,\n",
    "MAX(price) AS Максимальная_цена\n",
    "FROM book\n",
    "WHERE author <> 'Есенин С.А.'\n",
    "GROUP BY author\n",
    "HAVING SUM(amount) > 10;"
   ]
  },
  {
   "cell_type": "markdown",
   "metadata": {},
   "source": [
    "#### Посчитать стоимость всех экземпляров каждого автора без учета книг «Идиот» и «Белая гвардия». В результат включить только тех авторов, у которых суммарная стоимость книг более 5000 руб. Результат отсортировать по убыванию стоимости."
   ]
  },
  {
   "cell_type": "code",
   "execution_count": null,
   "metadata": {},
   "outputs": [],
   "source": [
    "Select author,\n",
    "Sum(price * amount) As Стоимость\n",
    "From book\n",
    "Where title <> 'Идиот' and title <> 'Белая гвардия'\n",
    "GROUP BY author\n",
    "Having Sum(price * amount) > 5000\n",
    "ORDER BY 2 DESC;"
   ]
  },
  {
   "cell_type": "code",
   "execution_count": null,
   "metadata": {},
   "outputs": [],
   "source": []
  },
  {
   "cell_type": "code",
   "execution_count": null,
   "metadata": {},
   "outputs": [],
   "source": []
  }
 ],
 "metadata": {
  "kernelspec": {
   "display_name": "Python 3",
   "language": "python",
   "name": "python3"
  },
  "language_info": {
   "codemirror_mode": {
    "name": "ipython",
    "version": 3
   },
   "file_extension": ".py",
   "mimetype": "text/x-python",
   "name": "python",
   "nbconvert_exporter": "python",
   "pygments_lexer": "ipython3",
   "version": "3.8.5"
  }
 },
 "nbformat": 4,
 "nbformat_minor": 4
}
